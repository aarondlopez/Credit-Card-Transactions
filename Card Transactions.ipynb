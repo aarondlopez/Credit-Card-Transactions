{
 "cells": [
  {
   "cell_type": "code",
   "execution_count": 2,
   "metadata": {},
   "outputs": [],
   "source": [
    "# Import libraries\n",
    "import pandas as pd\n",
    "import numpy as np\n",
    "import matplotlib.pyplot as plt"
   ]
  },
  {
   "cell_type": "code",
   "execution_count": 3,
   "metadata": {},
   "outputs": [],
   "source": [
    "# Set path for our data\n",
    "path = \"./cardtransactions.csv\""
   ]
  },
  {
   "cell_type": "code",
   "execution_count": 4,
   "metadata": {},
   "outputs": [],
   "source": [
    "# Read data into a data frame\n",
    "df = pd.read_csv(path)"
   ]
  },
  {
   "cell_type": "code",
   "execution_count": 5,
   "metadata": {},
   "outputs": [
    {
     "data": {
      "text/html": [
       "<div>\n",
       "<style scoped>\n",
       "    .dataframe tbody tr th:only-of-type {\n",
       "        vertical-align: middle;\n",
       "    }\n",
       "\n",
       "    .dataframe tbody tr th {\n",
       "        vertical-align: top;\n",
       "    }\n",
       "\n",
       "    .dataframe thead th {\n",
       "        text-align: right;\n",
       "    }\n",
       "</style>\n",
       "<table border=\"1\" class=\"dataframe\">\n",
       "  <thead>\n",
       "    <tr style=\"text-align: right;\">\n",
       "      <th></th>\n",
       "      <th>Responsible Department</th>\n",
       "      <th>Cardholder Name</th>\n",
       "      <th>Transaction Date</th>\n",
       "      <th>Transaction Amount</th>\n",
       "      <th>Merchant Category Code Description</th>\n",
       "      <th>Merchant Name</th>\n",
       "      <th>Merchant State/Province</th>\n",
       "      <th>Department Contact</th>\n",
       "      <th>Phone #</th>\n",
       "    </tr>\n",
       "  </thead>\n",
       "  <tbody>\n",
       "    <tr>\n",
       "      <th>0</th>\n",
       "      <td>CITY MANAGER</td>\n",
       "      <td>JULIE CHIOU</td>\n",
       "      <td>01/14/01</td>\n",
       "      <td>$317.27</td>\n",
       "      <td>FAST FOOD RESTAURANTS</td>\n",
       "      <td>PANERA BREAD #04472</td>\n",
       "      <td>CA</td>\n",
       "      <td>ERNEST AZEVEDO</td>\n",
       "      <td>408-535-8119</td>\n",
       "    </tr>\n",
       "    <tr>\n",
       "      <th>1</th>\n",
       "      <td>CITY MANAGER</td>\n",
       "      <td>JULIE CHIOU</td>\n",
       "      <td>01/14/01</td>\n",
       "      <td>$103.03</td>\n",
       "      <td>FAST FOOD RESTAURANTS</td>\n",
       "      <td>PANERA BREAD #04472</td>\n",
       "      <td>CA</td>\n",
       "      <td>ERNEST AZEVEDO</td>\n",
       "      <td>408-535-8119</td>\n",
       "    </tr>\n",
       "    <tr>\n",
       "      <th>2</th>\n",
       "      <td>CITY MANAGER</td>\n",
       "      <td>JULIE CHIOU</td>\n",
       "      <td>01/14/01</td>\n",
       "      <td>$124.98</td>\n",
       "      <td>FAST FOOD RESTAURANTS</td>\n",
       "      <td>PANERA BREAD #04472</td>\n",
       "      <td>CA</td>\n",
       "      <td>ERNEST AZEVEDO</td>\n",
       "      <td>408-535-8119</td>\n",
       "    </tr>\n",
       "    <tr>\n",
       "      <th>3</th>\n",
       "      <td>CITY MANAGER</td>\n",
       "      <td>JULIE CHIOU</td>\n",
       "      <td>01/14/01</td>\n",
       "      <td>$490.87</td>\n",
       "      <td>FAST FOOD RESTAURANTS</td>\n",
       "      <td>PANERA BREAD #04472</td>\n",
       "      <td>CA</td>\n",
       "      <td>ERNEST AZEVEDO</td>\n",
       "      <td>408-535-8119</td>\n",
       "    </tr>\n",
       "    <tr>\n",
       "      <th>4</th>\n",
       "      <td>CITY MANAGER</td>\n",
       "      <td>JULIE CHIOU</td>\n",
       "      <td>01/14/01</td>\n",
       "      <td>$151.97</td>\n",
       "      <td>FAST FOOD RESTAURANTS</td>\n",
       "      <td>PANERA BREAD #04472</td>\n",
       "      <td>CA</td>\n",
       "      <td>ERNEST AZEVEDO</td>\n",
       "      <td>408-535-8119</td>\n",
       "    </tr>\n",
       "  </tbody>\n",
       "</table>\n",
       "</div>"
      ],
      "text/plain": [
       "  Responsible Department Cardholder Name Transaction Date Transaction Amount  \\\n",
       "0           CITY MANAGER     JULIE CHIOU         01/14/01            $317.27   \n",
       "1           CITY MANAGER     JULIE CHIOU         01/14/01            $103.03   \n",
       "2           CITY MANAGER     JULIE CHIOU         01/14/01            $124.98   \n",
       "3           CITY MANAGER     JULIE CHIOU         01/14/01            $490.87   \n",
       "4           CITY MANAGER     JULIE CHIOU         01/14/01            $151.97   \n",
       "\n",
       "  Merchant Category Code Description        Merchant Name  \\\n",
       "0              FAST FOOD RESTAURANTS  PANERA BREAD #04472   \n",
       "1              FAST FOOD RESTAURANTS  PANERA BREAD #04472   \n",
       "2              FAST FOOD RESTAURANTS  PANERA BREAD #04472   \n",
       "3              FAST FOOD RESTAURANTS  PANERA BREAD #04472   \n",
       "4              FAST FOOD RESTAURANTS  PANERA BREAD #04472   \n",
       "\n",
       "  Merchant State/Province Department Contact       Phone #  \n",
       "0                      CA     ERNEST AZEVEDO  408-535-8119  \n",
       "1                      CA     ERNEST AZEVEDO  408-535-8119  \n",
       "2                      CA     ERNEST AZEVEDO  408-535-8119  \n",
       "3                      CA     ERNEST AZEVEDO  408-535-8119  \n",
       "4                      CA     ERNEST AZEVEDO  408-535-8119  "
      ]
     },
     "execution_count": 5,
     "metadata": {},
     "output_type": "execute_result"
    }
   ],
   "source": [
    "# Explore the dataset\n",
    "df.head()"
   ]
  },
  {
   "cell_type": "code",
   "execution_count": 6,
   "metadata": {},
   "outputs": [
    {
     "data": {
      "text/plain": [
       "(89960, 9)"
      ]
     },
     "execution_count": 6,
     "metadata": {},
     "output_type": "execute_result"
    }
   ],
   "source": [
    "# Almost 90,000 transactions\n",
    "df.shape"
   ]
  },
  {
   "cell_type": "code",
   "execution_count": 7,
   "metadata": {},
   "outputs": [
    {
     "data": {
      "text/plain": [
       "Index(['Responsible Department', 'Cardholder Name', 'Transaction Date',\n",
       "       'Transaction Amount', 'Merchant Category Code Description',\n",
       "       'Merchant Name', 'Merchant State/Province', 'Department Contact',\n",
       "       'Phone #'],\n",
       "      dtype='object')"
      ]
     },
     "execution_count": 7,
     "metadata": {},
     "output_type": "execute_result"
    }
   ],
   "source": [
    "df.columns"
   ]
  },
  {
   "cell_type": "code",
   "execution_count": 8,
   "metadata": {},
   "outputs": [
    {
     "data": {
      "text/plain": [
       "True"
      ]
     },
     "execution_count": 8,
     "metadata": {},
     "output_type": "execute_result"
    }
   ],
   "source": [
    "# Looks like we have some missing data\n",
    "df.isnull().values.any()"
   ]
  },
  {
   "cell_type": "code",
   "execution_count": 9,
   "metadata": {},
   "outputs": [
    {
     "data": {
      "text/plain": [
       "Responsible Department                   0\n",
       "Cardholder Name                          0\n",
       "Transaction Date                         0\n",
       "Transaction Amount                       0\n",
       "Merchant Category Code Description      10\n",
       "Merchant Name                            0\n",
       "Merchant State/Province               1087\n",
       "Department Contact                       0\n",
       "Phone #                                  0\n",
       "dtype: int64"
      ]
     },
     "execution_count": 9,
     "metadata": {},
     "output_type": "execute_result"
    }
   ],
   "source": [
    "# Missing data is miminal so we'll drop those observations from the data\n",
    "df.isnull().sum()"
   ]
  },
  {
   "cell_type": "code",
   "execution_count": 10,
   "metadata": {},
   "outputs": [
    {
     "data": {
      "text/plain": [
       "CA    51817\n",
       "IL    15384\n",
       "WA     6002\n",
       "TX     2532\n",
       "PA     1015\n",
       "GA      941\n",
       "MA      863\n",
       "NY      859\n",
       "CO      622\n",
       "VA      614\n",
       "NV      606\n",
       "MN      529\n",
       "FL      519\n",
       "AZ      468\n",
       "DC      467\n",
       "OH      461\n",
       "NE      360\n",
       "TN      358\n",
       "NJ      349\n",
       "WI      338\n",
       "KS      334\n",
       "NC      319\n",
       "CT      283\n",
       "MD      275\n",
       "OR      264\n",
       "MO      263\n",
       "MI      256\n",
       "UT      206\n",
       "KY      198\n",
       "IA      195\n",
       "OK      194\n",
       "IN      136\n",
       "NH      111\n",
       "AL      110\n",
       "AR       99\n",
       "RI       85\n",
       "LA       80\n",
       "ME       72\n",
       "ID       53\n",
       "SC       52\n",
       "MS       41\n",
       "HI       33\n",
       "WV       26\n",
       "NM       17\n",
       "ND       17\n",
       "SD       13\n",
       "MT       12\n",
       "DE       11\n",
       "VT        8\n",
       "WY        6\n",
       "Name: Merchant State/Province, dtype: int64"
      ]
     },
     "execution_count": 10,
     "metadata": {},
     "output_type": "execute_result"
    }
   ],
   "source": [
    "df['Merchant State/Province'].value_counts()"
   ]
  },
  {
   "cell_type": "code",
   "execution_count": 11,
   "metadata": {},
   "outputs": [],
   "source": [
    "df = df.dropna()"
   ]
  },
  {
   "cell_type": "code",
   "execution_count": 12,
   "metadata": {},
   "outputs": [
    {
     "data": {
      "text/plain": [
       "(88873, 9)"
      ]
     },
     "execution_count": 12,
     "metadata": {},
     "output_type": "execute_result"
    }
   ],
   "source": [
    "df.shape"
   ]
  },
  {
   "cell_type": "code",
   "execution_count": 13,
   "metadata": {},
   "outputs": [
    {
     "data": {
      "text/plain": [
       "False"
      ]
     },
     "execution_count": 13,
     "metadata": {},
     "output_type": "execute_result"
    }
   ],
   "source": [
    "df.isnull().values.any()"
   ]
  },
  {
   "cell_type": "code",
   "execution_count": 14,
   "metadata": {},
   "outputs": [
    {
     "name": "stdout",
     "output_type": "stream",
     "text": [
      "<class 'pandas.core.frame.DataFrame'>\n",
      "Int64Index: 88873 entries, 0 to 89959\n",
      "Data columns (total 9 columns):\n",
      "Responsible Department                88873 non-null object\n",
      "Cardholder Name                       88873 non-null object\n",
      "Transaction Date                      88873 non-null object\n",
      "Transaction Amount                    88873 non-null object\n",
      "Merchant Category Code Description    88873 non-null object\n",
      "Merchant Name                         88873 non-null object\n",
      "Merchant State/Province               88873 non-null object\n",
      "Department Contact                    88873 non-null object\n",
      "Phone #                               88873 non-null object\n",
      "dtypes: object(9)\n",
      "memory usage: 6.8+ MB\n"
     ]
    }
   ],
   "source": [
    "df.info()"
   ]
  },
  {
   "cell_type": "code",
   "execution_count": 15,
   "metadata": {},
   "outputs": [
    {
     "data": {
      "text/html": [
       "<div>\n",
       "<style scoped>\n",
       "    .dataframe tbody tr th:only-of-type {\n",
       "        vertical-align: middle;\n",
       "    }\n",
       "\n",
       "    .dataframe tbody tr th {\n",
       "        vertical-align: top;\n",
       "    }\n",
       "\n",
       "    .dataframe thead th {\n",
       "        text-align: right;\n",
       "    }\n",
       "</style>\n",
       "<table border=\"1\" class=\"dataframe\">\n",
       "  <thead>\n",
       "    <tr style=\"text-align: right;\">\n",
       "      <th></th>\n",
       "      <th>Responsible Department</th>\n",
       "      <th>Cardholder Name</th>\n",
       "      <th>Transaction Date</th>\n",
       "      <th>Transaction Amount</th>\n",
       "      <th>Merchant Category Code Description</th>\n",
       "      <th>Merchant Name</th>\n",
       "      <th>Merchant State/Province</th>\n",
       "      <th>Department Contact</th>\n",
       "      <th>Phone #</th>\n",
       "    </tr>\n",
       "  </thead>\n",
       "  <tbody>\n",
       "    <tr>\n",
       "      <th>count</th>\n",
       "      <td>88873</td>\n",
       "      <td>88873</td>\n",
       "      <td>88873</td>\n",
       "      <td>88873</td>\n",
       "      <td>88873</td>\n",
       "      <td>88873</td>\n",
       "      <td>88873</td>\n",
       "      <td>88873</td>\n",
       "      <td>88873</td>\n",
       "    </tr>\n",
       "    <tr>\n",
       "      <th>unique</th>\n",
       "      <td>38</td>\n",
       "      <td>1111</td>\n",
       "      <td>326</td>\n",
       "      <td>35337</td>\n",
       "      <td>315</td>\n",
       "      <td>26122</td>\n",
       "      <td>50</td>\n",
       "      <td>20</td>\n",
       "      <td>19</td>\n",
       "    </tr>\n",
       "    <tr>\n",
       "      <th>top</th>\n",
       "      <td>PARKS, RECREATION &amp; NEIGH</td>\n",
       "      <td>MARCIA ROUVELL</td>\n",
       "      <td>02/15/12</td>\n",
       "      <td>$2.04</td>\n",
       "      <td>STATIONERY STORE/SUPPLIES</td>\n",
       "      <td>AMAZON MKTPLACE PMTS</td>\n",
       "      <td>CA</td>\n",
       "      <td>JULIE JENNINGS</td>\n",
       "      <td>408-277-2450</td>\n",
       "    </tr>\n",
       "    <tr>\n",
       "      <th>freq</th>\n",
       "      <td>19287</td>\n",
       "      <td>2928</td>\n",
       "      <td>921</td>\n",
       "      <td>1748</td>\n",
       "      <td>14652</td>\n",
       "      <td>3239</td>\n",
       "      <td>51817</td>\n",
       "      <td>20228</td>\n",
       "      <td>23109</td>\n",
       "    </tr>\n",
       "  </tbody>\n",
       "</table>\n",
       "</div>"
      ],
      "text/plain": [
       "           Responsible Department Cardholder Name Transaction Date  \\\n",
       "count                       88873           88873            88873   \n",
       "unique                         38            1111              326   \n",
       "top     PARKS, RECREATION & NEIGH  MARCIA ROUVELL         02/15/12   \n",
       "freq                        19287            2928              921   \n",
       "\n",
       "       Transaction Amount Merchant Category Code Description  \\\n",
       "count               88873                              88873   \n",
       "unique              35337                                315   \n",
       "top                 $2.04          STATIONERY STORE/SUPPLIES   \n",
       "freq                 1748                              14652   \n",
       "\n",
       "               Merchant Name Merchant State/Province Department Contact  \\\n",
       "count                  88873                   88873              88873   \n",
       "unique                 26122                      50                 20   \n",
       "top     AMAZON MKTPLACE PMTS                      CA     JULIE JENNINGS   \n",
       "freq                    3239                   51817              20228   \n",
       "\n",
       "             Phone #  \n",
       "count          88873  \n",
       "unique            19  \n",
       "top     408-277-2450  \n",
       "freq           23109  "
      ]
     },
     "execution_count": 15,
     "metadata": {},
     "output_type": "execute_result"
    }
   ],
   "source": [
    "df.describe()"
   ]
  },
  {
   "cell_type": "code",
   "execution_count": 16,
   "metadata": {},
   "outputs": [
    {
     "data": {
      "text/plain": [
       "MARCIA ROUVELL      2928\n",
       "ALBERT RODRIGUEZ     852\n",
       "JEANNETTE MESTAZ     722\n",
       "TINA YU TAYLOR       708\n",
       "JULIE CHIOU          675\n",
       "Name: Cardholder Name, dtype: int64"
      ]
     },
     "execution_count": 16,
     "metadata": {},
     "output_type": "execute_result"
    }
   ],
   "source": [
    "# Top transactions for each cardholder, Marcia Rouvell, has the most transactions.\n",
    "df['Cardholder Name'].value_counts().head()"
   ]
  },
  {
   "cell_type": "code",
   "execution_count": 17,
   "metadata": {},
   "outputs": [
    {
     "data": {
      "text/plain": [
       "'01/14/01'"
      ]
     },
     "execution_count": 17,
     "metadata": {},
     "output_type": "execute_result"
    }
   ],
   "source": [
    "# We look to have about 13 years of transaction data\n",
    "df['Transaction Date'].min()"
   ]
  },
  {
   "cell_type": "code",
   "execution_count": 18,
   "metadata": {},
   "outputs": [
    {
     "data": {
      "text/plain": [
       "'12/15/13'"
      ]
     },
     "execution_count": 18,
     "metadata": {},
     "output_type": "execute_result"
    }
   ],
   "source": [
    "df['Transaction Date'].max()"
   ]
  },
  {
   "cell_type": "code",
   "execution_count": 19,
   "metadata": {},
   "outputs": [],
   "source": [
    "# Formatting 'Transaction Amount' data to float for analysis of transaction by dollar amount. \n",
    "df['Transaction Amount'] = df['Transaction Amount'].str.replace(\"$\", \"\")\n",
    "df['Transaction Amount'] = df['Transaction Amount'].str.replace(\"(\", \"-\")\n",
    "df['Transaction Amount'] = df['Transaction Amount'].str.replace(\")\", \"\")\n",
    "df['Transaction Amount'] = df['Transaction Amount'].str.replace(\",\", \"\")\n",
    "df['Transaction Amount'] = df['Transaction Amount'].astype(float)"
   ]
  },
  {
   "cell_type": "code",
   "execution_count": 20,
   "metadata": {},
   "outputs": [
    {
     "data": {
      "text/plain": [
       "count    88873.000000\n",
       "mean       297.870199\n",
       "std        709.875531\n",
       "min      -6310.510000\n",
       "25%         30.420000\n",
       "50%         95.320000\n",
       "75%        285.470000\n",
       "max      14185.130000\n",
       "Name: Transaction Amount, dtype: float64"
      ]
     },
     "execution_count": 20,
     "metadata": {},
     "output_type": "execute_result"
    }
   ],
   "source": [
    "df['Transaction Amount'].describe()"
   ]
  },
  {
   "cell_type": "code",
   "execution_count": 39,
   "metadata": {},
   "outputs": [
    {
     "data": {
      "image/png": "[encoded data removed]",
      "text/plain": [
       "<Figure size 360x360 with 1 Axes>"
      ]
     },
     "metadata": {},
     "output_type": "display_data"
    }
   ],
   "source": [
    "# There seems to be a lot of outliers but we should exclude the charge offs. \n",
    "plt.style.use('fivethirtyeight')\n",
    "df.boxplot(column=['Transaction Amount'], figsize=(5,5));"
   ]
  },
  {
   "cell_type": "code",
   "execution_count": 22,
   "metadata": {},
   "outputs": [],
   "source": [
    "pos_transactions = df[df['Transaction Amount'] > 0]"
   ]
  },
  {
   "cell_type": "code",
   "execution_count": 23,
   "metadata": {},
   "outputs": [
    {
     "data": {
      "text/plain": [
       "count    88873.000000\n",
       "mean       297.870199\n",
       "std        709.875531\n",
       "min      -6310.510000\n",
       "25%         30.420000\n",
       "50%         95.320000\n",
       "75%        285.470000\n",
       "max      14185.130000\n",
       "Name: Transaction Amount, dtype: float64"
      ]
     },
     "execution_count": 23,
     "metadata": {},
     "output_type": "execute_result"
    }
   ],
   "source": [
    "df['Transaction Amount'].describe()"
   ]
  },
  {
   "cell_type": "code",
   "execution_count": 24,
   "metadata": {},
   "outputs": [
    {
     "data": {
      "text/plain": [
       "count    86641.000000\n",
       "mean       310.123187\n",
       "std        712.053989\n",
       "min          0.010000\n",
       "25%         34.000000\n",
       "50%         99.940000\n",
       "75%        295.000000\n",
       "max      14185.130000\n",
       "Name: Transaction Amount, dtype: float64"
      ]
     },
     "execution_count": 24,
     "metadata": {},
     "output_type": "execute_result"
    }
   ],
   "source": [
    "pos_transactions['Transaction Amount'].describe()"
   ]
  },
  {
   "cell_type": "code",
   "execution_count": 40,
   "metadata": {},
   "outputs": [
    {
     "data": {
      "image/png": "[encoded data removed]",
      "text/plain": [
       "<Figure size 360x720 with 1 Axes>"
      ]
     },
     "metadata": {},
     "output_type": "display_data"
    }
   ],
   "source": [
    "pos_transactions.boxplot(column=['Transaction Amount'], figsize=(5,10));"
   ]
  },
  {
   "cell_type": "code",
   "execution_count": 26,
   "metadata": {},
   "outputs": [],
   "source": [
    "large_transactions = df[df['Transaction Amount'] > 300]"
   ]
  },
  {
   "cell_type": "code",
   "execution_count": 53,
   "metadata": {},
   "outputs": [
    {
     "data": {
      "image/png": "[encoded data removed]",
      "text/plain": [
       "<Figure size 360x720 with 1 Axes>"
      ]
     },
     "metadata": {},
     "output_type": "display_data"
    }
   ],
   "source": [
    "large_transactions.hist(column=['Transaction Amount'], figsize=(5,10), bins=15);"
   ]
  },
  {
   "cell_type": "code",
   "execution_count": null,
   "metadata": {},
   "outputs": [],
   "source": []
  }
 ],
 "metadata": {
  "kernelspec": {
   "display_name": "Python 3",
   "language": "python",
   "name": "python3"
  },
  "language_info": {
   "codemirror_mode": {
    "name": "ipython",
    "version": 3
   },
   "file_extension": ".py",
   "mimetype": "text/x-python",
   "name": "python",
   "nbconvert_exporter": "python",
   "pygments_lexer": "ipython3",
   "version": "3.7.0"
  }
 },
 "nbformat": 4,
 "nbformat_minor": 2
}
